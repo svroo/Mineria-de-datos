{
 "cells": [
  {
   "cell_type": "code",
   "execution_count": 1,
   "metadata": {},
   "outputs": [],
   "source": [
    "import pandas as pd\n",
    "import numpy as np"
   ]
  },
  {
   "cell_type": "code",
   "execution_count": 2,
   "metadata": {},
   "outputs": [
    {
     "name": "stderr",
     "output_type": "stream",
     "text": [
      "C:\\Users\\rod_e\\AppData\\Local\\Temp\\ipykernel_8552\\1256429594.py:1: DtypeWarning: Columns (13,28,29,38,39) have mixed types. Specify dtype option on import or set low_memory=False.\n",
      "  data = pd.read_csv('./datasets/Data_unido_2018_2021.csv')\n"
     ]
    },
    {
     "data": {
      "text/html": [
       "<div>\n",
       "<style scoped>\n",
       "    .dataframe tbody tr th:only-of-type {\n",
       "        vertical-align: middle;\n",
       "    }\n",
       "\n",
       "    .dataframe tbody tr th {\n",
       "        vertical-align: top;\n",
       "    }\n",
       "\n",
       "    .dataframe thead th {\n",
       "        text-align: right;\n",
       "    }\n",
       "</style>\n",
       "<table border=\"1\" class=\"dataframe\">\n",
       "  <thead>\n",
       "    <tr style=\"text-align: right;\">\n",
       "      <th></th>\n",
       "      <th>año</th>\n",
       "      <th>mes</th>\n",
       "      <th>fecha_ingreso</th>\n",
       "      <th>referida</th>\n",
       "      <th>estado_civil</th>\n",
       "      <th>edad</th>\n",
       "      <th>institucion_derechohab</th>\n",
       "      <th>nivel_edu</th>\n",
       "      <th>ocupacion</th>\n",
       "      <th>religion</th>\n",
       "      <th>...</th>\n",
       "      <th>semanas_gestacion_usg</th>\n",
       "      <th>dias_gestacion_usg</th>\n",
       "      <th>firma_consentimiento</th>\n",
       "      <th>se_complica</th>\n",
       "      <th>con_dolor</th>\n",
       "      <th>analgesico</th>\n",
       "      <th>anticonceptivo_post</th>\n",
       "      <th>fecha_cierre</th>\n",
       "      <th>resultado_ile</th>\n",
       "      <th>procedimiento_ile</th>\n",
       "    </tr>\n",
       "  </thead>\n",
       "  <tbody>\n",
       "    <tr>\n",
       "      <th>0</th>\n",
       "      <td>2016</td>\n",
       "      <td>ABRIL</td>\n",
       "      <td>2016-04-01</td>\n",
       "      <td>NaN</td>\n",
       "      <td>SOLTERA</td>\n",
       "      <td>24</td>\n",
       "      <td>NINGUNO</td>\n",
       "      <td>PREPARATORIA</td>\n",
       "      <td>ESTUDIANTE</td>\n",
       "      <td>NINGUNA</td>\n",
       "      <td>...</td>\n",
       "      <td>3.0</td>\n",
       "      <td>NaN</td>\n",
       "      <td>NaN</td>\n",
       "      <td>NaN</td>\n",
       "      <td>NaN</td>\n",
       "      <td>NaN</td>\n",
       "      <td>CONDON</td>\n",
       "      <td>2016-04-08</td>\n",
       "      <td>COMPLETA</td>\n",
       "      <td>MEDICAMENTO</td>\n",
       "    </tr>\n",
       "    <tr>\n",
       "      <th>1</th>\n",
       "      <td>2016</td>\n",
       "      <td>ABRIL</td>\n",
       "      <td>2016-04-01</td>\n",
       "      <td>NaN</td>\n",
       "      <td>SOLTERA</td>\n",
       "      <td>30</td>\n",
       "      <td>NINGUNO</td>\n",
       "      <td>SECUNDARIA</td>\n",
       "      <td>TRABAJADORA DEL HOGAR NO REMUNERADA</td>\n",
       "      <td>CATOLICA</td>\n",
       "      <td>...</td>\n",
       "      <td>6.0</td>\n",
       "      <td>NaN</td>\n",
       "      <td>NaN</td>\n",
       "      <td>NaN</td>\n",
       "      <td>NaN</td>\n",
       "      <td>NaN</td>\n",
       "      <td>CONDON</td>\n",
       "      <td>2016-04-08</td>\n",
       "      <td>COMPLETA</td>\n",
       "      <td>MEDICAMENTO</td>\n",
       "    </tr>\n",
       "  </tbody>\n",
       "</table>\n",
       "<p>2 rows × 41 columns</p>\n",
       "</div>"
      ],
      "text/plain": [
       "    año    mes fecha_ingreso referida estado_civil  edad  \\\n",
       "0  2016  ABRIL    2016-04-01      NaN      SOLTERA    24   \n",
       "1  2016  ABRIL    2016-04-01      NaN      SOLTERA    30   \n",
       "\n",
       "  institucion_derechohab     nivel_edu                            ocupacion  \\\n",
       "0                NINGUNO  PREPARATORIA                           ESTUDIANTE   \n",
       "1                NINGUNO    SECUNDARIA  TRABAJADORA DEL HOGAR NO REMUNERADA   \n",
       "\n",
       "   religion  ... semanas_gestacion_usg dias_gestacion_usg  \\\n",
       "0   NINGUNA  ...                   3.0                NaN   \n",
       "1  CATOLICA  ...                   6.0                NaN   \n",
       "\n",
       "  firma_consentimiento se_complica  con_dolor analgesico  anticonceptivo_post  \\\n",
       "0                  NaN         NaN        NaN        NaN               CONDON   \n",
       "1                  NaN         NaN        NaN        NaN               CONDON   \n",
       "\n",
       "   fecha_cierre  resultado_ile  procedimiento_ile  \n",
       "0    2016-04-08       COMPLETA        MEDICAMENTO  \n",
       "1    2016-04-08       COMPLETA        MEDICAMENTO  \n",
       "\n",
       "[2 rows x 41 columns]"
      ]
     },
     "execution_count": 2,
     "metadata": {},
     "output_type": "execute_result"
    }
   ],
   "source": [
    "data = pd.read_csv('./datasets/Data_unido_2018_2021.csv')\n",
    "data.head(2)"
   ]
  },
  {
   "cell_type": "code",
   "execution_count": 31,
   "metadata": {},
   "outputs": [],
   "source": [
    "def tabla_hechos():\n",
    "    persona = pd.read_csv('./tablas/tabla_persona.csv')\n",
    "    ile = pd.read_csv('./tablas/ILE.csv')\n",
    "    tiempo = pd.read_csv('./tablas/tiempojunta.csv')\n",
    "    geo = pd.read_csv('./tablas/Geografia.csv')\n",
    "    ile = pd.read_csv('./tablas/ILE.csv')\n",
    "    abor = pd.read_csv('./datasets/Data_unido_2018_2021.csv')\n",
    "\n",
    "    hecho = {\n",
    "        'Id_aborto' : ['ile' + str(i) for i in range(np.shape(persona)[0])],\n",
    "        'Id_tiempo' : [(i) for i in tiempo['Id_tiempo'] if i.startswith('ile')],\n",
    "        'Id_persona' : persona['Id'],\n",
    "        'Id_entidad' : geo['Id_Geo'],\n",
    "        'Id_ILE' : ile['id_ile'],\n",
    "        'Semanas_gestacion' : abor['semanas_gestacion_usg'],\n",
    "        'Dias_gestacion' : abor['dias_gestacion_usg']    \n",
    "    }\n",
    "    \n",
    "    pd.DataFrame(hecho).to_csv('./tablas/Tabla_Ile_hechos.csv')"
   ]
  },
  {
   "cell_type": "code",
   "execution_count": 32,
   "metadata": {},
   "outputs": [
    {
     "name": "stderr",
     "output_type": "stream",
     "text": [
      "C:\\Users\\rod_e\\AppData\\Local\\Temp\\ipykernel_8552\\1702054185.py:4: DtypeWarning: Columns (6) have mixed types. Specify dtype option on import or set low_memory=False.\n",
      "  tiempo = pd.read_csv('./tablas/tiempojunta.csv')\n",
      "C:\\Users\\rod_e\\AppData\\Local\\Temp\\ipykernel_8552\\1702054185.py:7: DtypeWarning: Columns (13,28,29,38,39) have mixed types. Specify dtype option on import or set low_memory=False.\n",
      "  abor = pd.read_csv('./datasets/Data_unido_2018_2021.csv')\n"
     ]
    }
   ],
   "source": [
    "tabla_hechos()"
   ]
  },
  {
   "cell_type": "code",
   "execution_count": 3,
   "metadata": {},
   "outputs": [],
   "source": [
    "def generar_tabla_tiempo(x, path = './tablas/tabla_tiempo_ile.csv', columna = 'fecha_ingreso', ile = False):\n",
    "    \"\"\"\n",
    "    Función para generar tabla de tiempo, en esta función toma una columna \n",
    "    y la divide en sus partes (dia, mes, año), crea un id para la tabla, \n",
    "    si es ILE agrega eso más la fecha junta.\n",
    "    \n",
    "    x : dataframe que proviene de un archivo csv\n",
    "    path : ubicacion para guardar el archivo csv que genera esta función\n",
    "    columna : Columna que seleccionamos del dataframe para separar dicha fecha \n",
    "    maternidad : valor booleano que define que tipo de dataset va a ser tratado\n",
    "    \"\"\"\n",
    "    \n",
    "    if ile:\n",
    "        # Guardamos la columna en una varialbe temporal\n",
    "        fechas = x[columna]\n",
    "        \n",
    "        # Creamos los valores de cada columna\n",
    "        id = ['ile' + ''.join(fecha.strip()) for fecha in fechas]\n",
    "        dia = [fecha.strip()[2] for fecha in fechas]\n",
    "        mes = [fecha.strip()[1] for fecha in fechas]\n",
    "        anio = [fecha.strip()[0] for fecha in fechas]\n",
    "        ile = [1 for fecha in fechas]\n",
    "        fecha_nac = [float('nan') for fecha in fechas]\n",
    "        natalidad = [0 for fecha in fechas]\n",
    "        fecha_ing = x['fecha_ingeso']\n",
    "        \n",
    "        # Creamos un diccionario que posteriormente sera un archivo csv\n",
    "        tabla_tiempo_ile = {\n",
    "            'Id_tiempo':id,\n",
    "            'Año' : anio,\n",
    "            'Mes': mes,\n",
    "            'Dia' : dia,\n",
    "            'Fecha_ingreso' : fecha_ing,\n",
    "            'Fecha_nacimiento' : fecha_nac,\n",
    "            'ILE' : ile,\n",
    "            'Natalidad' : natalidad\n",
    "        }\n",
    "        \n",
    "        # Guardamos el archivo csv\n",
    "        pd.DataFrame(tabla_tiempo_ile).to_csv(path, index=False)\n",
    "    \n",
    "    else:\n",
    "        fechas = x[columna]\n",
    "        \n",
    "        # Creamos las columnas del archivo csv\n",
    "        anio = [fecha.strip()[0] for fecha in fechas]\n",
    "        mes = [fecha.strip()[1] for fecha in fechas]\n",
    "        dia = [fecha.strip()[2] for fecha in fechas]\n",
    "        id = ['nat' + ''.join(fecha.strip()) for fecha in fechas]\n",
    "        ile = [float('nan') for fecha in fechas]\n",
    "        fecha_nac = [fecha for fecha in fechas]\n",
    "        natalidad = [1 for fecha in fechas]\n",
    "        fecha_ing = [float('nan') for fecha in fechas]\n",
    "        \n",
    "        # Creamos el diccionario que posteriormente sera nuestro archivo csv\n",
    "        tabla_tiempo = {\n",
    "            'Id_tiempo' : id,\n",
    "            'Año' : anio,\n",
    "            'Mes': mes,\n",
    "            'Dia' : dia,\n",
    "            'Fecha_ingreso' : fecha_ing,\n",
    "            'Fecha_nacimiento' : fecha_nac,\n",
    "            'ILE' : ile,\n",
    "            'Natalidad' : natalidad            \n",
    "        }\n",
    "        \n",
    "        # Intentamos abrir si ya existe el otro archivo\n",
    "        try:\n",
    "            uni = pd.read_csv(path)\n",
    "            \n",
    "            juntos = uni.append(pd.DataFrame(tabla_tiempo))\n",
    "            juntos.to_csv('./tablas/tiempojunta.csv', index=False)\n",
    "        except:\n",
    "            print('No es posible escribir el archivo')"
   ]
  },
  {
   "cell_type": "code",
   "execution_count": 82,
   "metadata": {},
   "outputs": [],
   "source": [
    "def medicina(x, path = './tablas/medicina.csv'):\n",
    "    \"\"\"\n",
    "    Funciona para crear la tabla de datos de las personas, enofacado más en los parametros sexuales\n",
    "\n",
    "    x : dataFrame\n",
    "    path : ubicación donde guardar el archivo csv\n",
    "    \"\"\"\n",
    "    dat = x[x.columns[13:27].values]\n",
    "\n",
    "    pd.DataFrame(dat).to_csv(path, index=False)\n",
    "    "
   ]
  },
  {
   "cell_type": "code",
   "execution_count": 123,
   "metadata": {},
   "outputs": [],
   "source": [
    "def get_table_medicina(x = pd.DataFrame(), path ='./tablas/medicina.csv'):\n",
    "    \"\"\"\n",
    "    Funcion que genera tabla de medicina para el archivo ILE del proyecto\n",
    "    x : Data frame del archivo previamente leido\n",
    "    path : ubicacion donde se va a guardar el archivo generado por esta función.\n",
    "    \"\"\"\n",
    "    med = x[x.columns[14:28].values]\n",
    "    id_med = [i for i in range(np.shape(med)[0])]\n",
    "    \n",
    "    med.insert(0, 'ID_med', id_med)\n",
    "\n",
    "    pd.DataFrame(med).to_csv(path, index = False)"
   ]
  },
  {
   "cell_type": "code",
   "execution_count": 130,
   "metadata": {},
   "outputs": [],
   "source": [
    "def get_table_ILE(x = pd.DataFrame(), path = './tablas/ILE.csv'):\n",
    "    \"\"\"\n",
    "    Función que sirve para generar la tabla de ILE, que contiene datos especificos \n",
    "    acerca del ILE de cada persona.\n",
    "    \n",
    "    x : Data frame del archivo csv previamente leido\n",
    "    path : ubicacion donde se va a guardar el archivo csv que genera esta función\n",
    "    \"\"\"\n",
    "\n",
    "    mot = x['motivos_interrupcion']\n",
    "    analg = x['analgesico']\n",
    "    anti = x['anticonceptivo_post']\n",
    "    res = x['resultado_ile']\n",
    "    procd = x['procedimiento_ile']\n",
    "\n",
    "    id_ile = [i for i in range(np.shape(mot)[0])]\n",
    "\n",
    "    dic = {\n",
    "        'id_ile': id_ile,\n",
    "        'Motivos_interrupción' : mot,\n",
    "        'Analgesico' : analg, \n",
    "        'Anticonceptivo_post' : anti,\n",
    "        'Resultado_ile' : res,\n",
    "        'Procediminiento_ile' : procd\n",
    "    }\n",
    "\n",
    "    pd.DataFrame(dic).to_csv(path, index = False)"
   ]
  },
  {
   "cell_type": "code",
   "execution_count": 21,
   "metadata": {},
   "outputs": [],
   "source": [
    "def get_geo(x, path = './tablas/Geografia.csv', columna = 'alc_o_municipio',ile = True):\n",
    "    \"\"\"\n",
    "    Función que crea la tabla Geografia para la base de datos csv\n",
    "    x : Dataframe\n",
    "    path : ruta donde se va a guardar el archivo csv\n",
    "    \"\"\"\n",
    "\n",
    "    alcaldias_min = ['Alvaro Obregon', 'Azcapotzalco', 'Benito Juarez', 'Coyoacan', 'Cuajimalpa de Morelos', 'Cuauhtemoc', 'Gustavo A. Madero', 'Iztacalco','Iztapalapa', 'Magdalena Contreras', 'Miguel Hidalgo', 'Milpa Alta', 'Tlahuac', 'Talpan', 'Venustiano Carranza', 'Xochimilco']\n",
    "    \n",
    "    alcaldias = ['ÁLVARO OBREGÓN', 'AZCAPOTZALCO', 'BENÍTO JUÁREZ', 'COYOACÁN', 'CUAJIMALPA DE MORELOS', 'CUAUHTÉMOC', 'GUSTAVO A. MADERO', 'IZTACALCO','IZTAPALAPA', 'MAGDALENA CONTRERAS', 'MIGUEL HIDALGO', 'MILPA ALTA', 'TLÁHUAC', 'TLALPAN', 'VENUSTIANO CARRANZA', 'XOCHIMILCO']\n",
    "    \n",
    "    \n",
    "    if ile:\n",
    "        # municipios = x[columna]\n",
    "        # lon = np.shape(municipios)\n",
    "        \n",
    "        municipios = x[columna]\n",
    "        le = np.shape(municipios)\n",
    "        estado = list()\n",
    "        # lon = np.shape(municipios)\n",
    "\n",
    "        pais = ['México' for i in range(le[0])]\n",
    "        \n",
    "        for municipio in municipios:\n",
    "            if municipio in alcaldias:\n",
    "                estado.append('Ciudad de México')\n",
    "            else:\n",
    "                estado.append('Edo. de México')\n",
    "        \n",
    "        id = ['ile' + str(i) for i in range(le[0])]\n",
    "        est_nac = ['Null' for i in range(le[0])]\n",
    "        mun_nac = ['Null' for i in range(le[0])]\n",
    "\n",
    "\n",
    "\n",
    "        dat = {\n",
    "            'Id_Geo' : id,\n",
    "            'Pais' : pais,\n",
    "            'Estado_nacimiento' : est_nac,\n",
    "            'Mun_alc_nacimiento' : mun_nac,\n",
    "            'Entidad_ILE' : estado,\n",
    "            'Alc_o_mun_ILE' : municipios\n",
    "            }\n",
    "\n",
    "        pd.DataFrame(dat).to_csv(path, index=False)\n",
    "    \n",
    "    else:    \n",
    "        print('primer paso')\n",
    "        # Obtenemos la columan con la que vamos a trabajar\n",
    "        nat_mun = x['mun_alc_nacimiento']\n",
    "        inicio = 90042\n",
    "        final = inicio + np.shape(nat_mun)[0]\n",
    "        \n",
    "        \n",
    "        id = ['Nat' + str(i) for i in range(inicio, final)]\n",
    "        pais = ['México' for i in nat_mun]\n",
    "        estado = [float('nan') for mun in nat_mun]\n",
    "        municipios = ['Null' for i in range(np.shape(nat_mun)[0])]\n",
    "        \n",
    "        est_nac = x['estado_nacimiento']\n",
    "        \n",
    "        \n",
    "        # print('Natalidad',np.shape(nat_mun))\n",
    "        # print('id', np.shape(id))\n",
    "        # print('pais', np.shape(pais))\n",
    "        # print('estado', np.shape(estado))\n",
    "        # print('municipios', np.shape(municipios))\n",
    "        # print('est_nac', np.shape(est_nac))\n",
    "        nat_dic = {\n",
    "            'Id_Geo' : id,\n",
    "            'Pais' : pais,\n",
    "            'Estado_nacimiento' : est_nac,\n",
    "            'Mun_alc_nacimiento' : nat_mun,\n",
    "            'Entidad_ILE' : estado,\n",
    "            'Alc_o_mun_ILE' : municipios\n",
    "        }\n",
    "        \n",
    "        # print(np.shape(pd.DataFrame(nat_dic)))\n",
    "        # print(nat_dic)\n",
    "        # print(np.shape(nat_dic))\n",
    "        try:\n",
    "            ile_geo = pd.read_csv(path)\n",
    "            unido = ile_geo.append(pd.DataFrame(nat_dic))\n",
    "            unido.to_csv('./tablas/geo_unida.csv', index=False)\n",
    "        except:\n",
    "            print('No se pudo completar')"
   ]
  },
  {
   "cell_type": "code",
   "execution_count": 17,
   "metadata": {},
   "outputs": [
    {
     "data": {
      "text/plain": [
       "Index(['año', 'mes', 'fecha_ingreso', 'referida', 'estado_civil', 'edad',\n",
       "       'institucion_derechohab', 'nivel_edu', 'ocupacion', 'religion',\n",
       "       'parentesco', 'entidad', 'alc_o_municipio', 'edad_primera_menstruacion',\n",
       "       'edad_inicio_vida_sexual', 'fecha_ultima_menstruacion',\n",
       "       'semanas_embarazo', 'numero_hijos', 'numero_embarazos',\n",
       "       'numero_abortos', 'numero_partos', 'numero_cesareas', 'numero_iles',\n",
       "       'recibio_consejeria', 'uso_anticonceptivo', 'fecha_primera_valoracion',\n",
       "       'numero_consultas', 'motivos_interrupcion', 'fecha_ingreso_hosp',\n",
       "       'fecha_egreso_hosp', 'desc_servicio', 'semanas_gestacion_usg',\n",
       "       'dias_gestacion_usg', 'firma_consentimiento', 'se_complica',\n",
       "       'con_dolor', 'analgesico', 'anticonceptivo_post', 'fecha_cierre',\n",
       "       'resultado_ile', 'procedimiento_ile'],\n",
       "      dtype='object')"
      ]
     },
     "execution_count": 17,
     "metadata": {},
     "output_type": "execute_result"
    }
   ],
   "source": [
    "data.columns"
   ]
  },
  {
   "cell_type": "code",
   "execution_count": 23,
   "metadata": {},
   "outputs": [],
   "source": [
    "get_geo(data, ile=True)"
   ]
  },
  {
   "attachments": {},
   "cell_type": "markdown",
   "metadata": {},
   "source": [
    "## Dataset Natalidad\n"
   ]
  },
  {
   "cell_type": "code",
   "execution_count": 4,
   "metadata": {},
   "outputs": [
    {
     "data": {
      "text/html": [
       "<div>\n",
       "<style scoped>\n",
       "    .dataframe tbody tr th:only-of-type {\n",
       "        vertical-align: middle;\n",
       "    }\n",
       "\n",
       "    .dataframe tbody tr th {\n",
       "        vertical-align: top;\n",
       "    }\n",
       "\n",
       "    .dataframe thead th {\n",
       "        text-align: right;\n",
       "    }\n",
       "</style>\n",
       "<table border=\"1\" class=\"dataframe\">\n",
       "  <thead>\n",
       "    <tr style=\"text-align: right;\">\n",
       "      <th></th>\n",
       "      <th>anio</th>\n",
       "      <th>mes</th>\n",
       "      <th>fecha_nacimiento</th>\n",
       "      <th>sexo</th>\n",
       "      <th>pais_nacimiento</th>\n",
       "      <th>estado_nacimiento</th>\n",
       "      <th>mun_alc_nacimiento</th>\n",
       "      <th>tutora_1_edad</th>\n",
       "      <th>tutora_1_sexo</th>\n",
       "      <th>tutora_1_nacionalidad</th>\n",
       "      <th>tutora_2_edad</th>\n",
       "      <th>tutora_2_sexo</th>\n",
       "      <th>tutora_2_nacionalidad</th>\n",
       "    </tr>\n",
       "  </thead>\n",
       "  <tbody>\n",
       "    <tr>\n",
       "      <th>0</th>\n",
       "      <td>2016</td>\n",
       "      <td>Enero</td>\n",
       "      <td>2016-01-01</td>\n",
       "      <td>Mujer</td>\n",
       "      <td>MÃ©xico</td>\n",
       "      <td>Ciudad de MÃ©xico</td>\n",
       "      <td>Cuauhtemoc</td>\n",
       "      <td>32.0</td>\n",
       "      <td>Hombre</td>\n",
       "      <td>MÃ©xico</td>\n",
       "      <td>32.0</td>\n",
       "      <td>Mujer</td>\n",
       "      <td>MÃ©xico</td>\n",
       "    </tr>\n",
       "    <tr>\n",
       "      <th>1</th>\n",
       "      <td>2016</td>\n",
       "      <td>Enero</td>\n",
       "      <td>2016-01-01</td>\n",
       "      <td>Mujer</td>\n",
       "      <td>MÃ©xico</td>\n",
       "      <td>Ciudad de MÃ©xico</td>\n",
       "      <td>Venustiano Carranza</td>\n",
       "      <td>16.0</td>\n",
       "      <td>Hombre</td>\n",
       "      <td>MÃ©xico</td>\n",
       "      <td>15.0</td>\n",
       "      <td>Mujer</td>\n",
       "      <td>MÃ©xico</td>\n",
       "    </tr>\n",
       "  </tbody>\n",
       "</table>\n",
       "</div>"
      ],
      "text/plain": [
       "   anio    mes fecha_nacimiento   sexo pais_nacimiento  estado_nacimiento  \\\n",
       "0  2016  Enero       2016-01-01  Mujer         MÃ©xico  Ciudad de MÃ©xico   \n",
       "1  2016  Enero       2016-01-01  Mujer         MÃ©xico  Ciudad de MÃ©xico   \n",
       "\n",
       "    mun_alc_nacimiento  tutora_1_edad tutora_1_sexo tutora_1_nacionalidad  \\\n",
       "0           Cuauhtemoc           32.0        Hombre               MÃ©xico   \n",
       "1  Venustiano Carranza           16.0        Hombre               MÃ©xico   \n",
       "\n",
       "   tutora_2_edad tutora_2_sexo tutora_2_nacionalidad  \n",
       "0           32.0         Mujer               MÃ©xico  \n",
       "1           15.0         Mujer               MÃ©xico  "
      ]
     },
     "execution_count": 4,
     "metadata": {},
     "output_type": "execute_result"
    }
   ],
   "source": [
    "nat = pd.read_csv('./datasets/Natalidad_2016-2021.csv', encoding='utf-8')\n",
    "nat.head(2)"
   ]
  },
  {
   "cell_type": "code",
   "execution_count": 24,
   "metadata": {},
   "outputs": [
    {
     "ename": "KeyError",
     "evalue": "'alc_o_municipio'",
     "output_type": "error",
     "traceback": [
      "\u001b[1;31m---------------------------------------------------------------------------\u001b[0m",
      "\u001b[1;31mKeyError\u001b[0m                                  Traceback (most recent call last)",
      "File \u001b[1;32md:\\Users\\rod_e\\AppData\\Local\\Programs\\Python\\Python310\\lib\\site-packages\\pandas\\core\\indexes\\base.py:3621\u001b[0m, in \u001b[0;36mIndex.get_loc\u001b[1;34m(self, key, method, tolerance)\u001b[0m\n\u001b[0;32m   3620\u001b[0m \u001b[39mtry\u001b[39;00m:\n\u001b[1;32m-> 3621\u001b[0m     \u001b[39mreturn\u001b[39;00m \u001b[39mself\u001b[39;49m\u001b[39m.\u001b[39;49m_engine\u001b[39m.\u001b[39;49mget_loc(casted_key)\n\u001b[0;32m   3622\u001b[0m \u001b[39mexcept\u001b[39;00m \u001b[39mKeyError\u001b[39;00m \u001b[39mas\u001b[39;00m err:\n",
      "File \u001b[1;32md:\\Users\\rod_e\\AppData\\Local\\Programs\\Python\\Python310\\lib\\site-packages\\pandas\\_libs\\index.pyx:136\u001b[0m, in \u001b[0;36mpandas._libs.index.IndexEngine.get_loc\u001b[1;34m()\u001b[0m\n",
      "File \u001b[1;32md:\\Users\\rod_e\\AppData\\Local\\Programs\\Python\\Python310\\lib\\site-packages\\pandas\\_libs\\index.pyx:163\u001b[0m, in \u001b[0;36mpandas._libs.index.IndexEngine.get_loc\u001b[1;34m()\u001b[0m\n",
      "File \u001b[1;32mpandas\\_libs\\hashtable_class_helper.pxi:5198\u001b[0m, in \u001b[0;36mpandas._libs.hashtable.PyObjectHashTable.get_item\u001b[1;34m()\u001b[0m\n",
      "File \u001b[1;32mpandas\\_libs\\hashtable_class_helper.pxi:5206\u001b[0m, in \u001b[0;36mpandas._libs.hashtable.PyObjectHashTable.get_item\u001b[1;34m()\u001b[0m\n",
      "\u001b[1;31mKeyError\u001b[0m: 'alc_o_municipio'",
      "\nThe above exception was the direct cause of the following exception:\n",
      "\u001b[1;31mKeyError\u001b[0m                                  Traceback (most recent call last)",
      "\u001b[1;32md:\\rod_e\\Documents\\VSCode\\Mineria-de-datos\\crear_tablas.ipynb Celda 14\u001b[0m in \u001b[0;36m<cell line: 1>\u001b[1;34m()\u001b[0m\n\u001b[1;32m----> <a href='vscode-notebook-cell:/d%3A/rod_e/Documents/VSCode/Mineria-de-datos/crear_tablas.ipynb#X23sZmlsZQ%3D%3D?line=0'>1</a>\u001b[0m get_geo(nat, \u001b[39mFalse\u001b[39;49;00m)\n",
      "\u001b[1;32md:\\rod_e\\Documents\\VSCode\\Mineria-de-datos\\crear_tablas.ipynb Celda 14\u001b[0m in \u001b[0;36mget_geo\u001b[1;34m(x, path, columna, ile)\u001b[0m\n\u001b[0;32m     <a href='vscode-notebook-cell:/d%3A/rod_e/Documents/VSCode/Mineria-de-datos/crear_tablas.ipynb#X23sZmlsZQ%3D%3D?line=9'>10</a>\u001b[0m alcaldias \u001b[39m=\u001b[39m [\u001b[39m'\u001b[39m\u001b[39mÁLVARO OBREGÓN\u001b[39m\u001b[39m'\u001b[39m, \u001b[39m'\u001b[39m\u001b[39mAZCAPOTZALCO\u001b[39m\u001b[39m'\u001b[39m, \u001b[39m'\u001b[39m\u001b[39mBENÍTO JUÁREZ\u001b[39m\u001b[39m'\u001b[39m, \u001b[39m'\u001b[39m\u001b[39mCOYOACÁN\u001b[39m\u001b[39m'\u001b[39m, \u001b[39m'\u001b[39m\u001b[39mCUAJIMALPA DE MORELOS\u001b[39m\u001b[39m'\u001b[39m, \u001b[39m'\u001b[39m\u001b[39mCUAUHTÉMOC\u001b[39m\u001b[39m'\u001b[39m, \u001b[39m'\u001b[39m\u001b[39mGUSTAVO A. MADERO\u001b[39m\u001b[39m'\u001b[39m, \u001b[39m'\u001b[39m\u001b[39mIZTACALCO\u001b[39m\u001b[39m'\u001b[39m,\u001b[39m'\u001b[39m\u001b[39mIZTAPALAPA\u001b[39m\u001b[39m'\u001b[39m, \u001b[39m'\u001b[39m\u001b[39mMAGDALENA CONTRERAS\u001b[39m\u001b[39m'\u001b[39m, \u001b[39m'\u001b[39m\u001b[39mMIGUEL HIDALGO\u001b[39m\u001b[39m'\u001b[39m, \u001b[39m'\u001b[39m\u001b[39mMILPA ALTA\u001b[39m\u001b[39m'\u001b[39m, \u001b[39m'\u001b[39m\u001b[39mTLÁHUAC\u001b[39m\u001b[39m'\u001b[39m, \u001b[39m'\u001b[39m\u001b[39mTLALPAN\u001b[39m\u001b[39m'\u001b[39m, \u001b[39m'\u001b[39m\u001b[39mVENUSTIANO CARRANZA\u001b[39m\u001b[39m'\u001b[39m, \u001b[39m'\u001b[39m\u001b[39mXOCHIMILCO\u001b[39m\u001b[39m'\u001b[39m]\n\u001b[0;32m     <a href='vscode-notebook-cell:/d%3A/rod_e/Documents/VSCode/Mineria-de-datos/crear_tablas.ipynb#X23sZmlsZQ%3D%3D?line=12'>13</a>\u001b[0m \u001b[39mif\u001b[39;00m ile:\n\u001b[0;32m     <a href='vscode-notebook-cell:/d%3A/rod_e/Documents/VSCode/Mineria-de-datos/crear_tablas.ipynb#X23sZmlsZQ%3D%3D?line=13'>14</a>\u001b[0m     \u001b[39m# municipios = x[columna]\u001b[39;00m\n\u001b[0;32m     <a href='vscode-notebook-cell:/d%3A/rod_e/Documents/VSCode/Mineria-de-datos/crear_tablas.ipynb#X23sZmlsZQ%3D%3D?line=14'>15</a>\u001b[0m     \u001b[39m# lon = np.shape(municipios)\u001b[39;00m\n\u001b[1;32m---> <a href='vscode-notebook-cell:/d%3A/rod_e/Documents/VSCode/Mineria-de-datos/crear_tablas.ipynb#X23sZmlsZQ%3D%3D?line=16'>17</a>\u001b[0m     municipios \u001b[39m=\u001b[39m x[columna]\n\u001b[0;32m     <a href='vscode-notebook-cell:/d%3A/rod_e/Documents/VSCode/Mineria-de-datos/crear_tablas.ipynb#X23sZmlsZQ%3D%3D?line=17'>18</a>\u001b[0m     le \u001b[39m=\u001b[39m np\u001b[39m.\u001b[39mshape(municipios)\n\u001b[0;32m     <a href='vscode-notebook-cell:/d%3A/rod_e/Documents/VSCode/Mineria-de-datos/crear_tablas.ipynb#X23sZmlsZQ%3D%3D?line=18'>19</a>\u001b[0m     estado \u001b[39m=\u001b[39m \u001b[39mlist\u001b[39m()\n",
      "File \u001b[1;32md:\\Users\\rod_e\\AppData\\Local\\Programs\\Python\\Python310\\lib\\site-packages\\pandas\\core\\frame.py:3505\u001b[0m, in \u001b[0;36mDataFrame.__getitem__\u001b[1;34m(self, key)\u001b[0m\n\u001b[0;32m   3503\u001b[0m \u001b[39mif\u001b[39;00m \u001b[39mself\u001b[39m\u001b[39m.\u001b[39mcolumns\u001b[39m.\u001b[39mnlevels \u001b[39m>\u001b[39m \u001b[39m1\u001b[39m:\n\u001b[0;32m   3504\u001b[0m     \u001b[39mreturn\u001b[39;00m \u001b[39mself\u001b[39m\u001b[39m.\u001b[39m_getitem_multilevel(key)\n\u001b[1;32m-> 3505\u001b[0m indexer \u001b[39m=\u001b[39m \u001b[39mself\u001b[39;49m\u001b[39m.\u001b[39;49mcolumns\u001b[39m.\u001b[39;49mget_loc(key)\n\u001b[0;32m   3506\u001b[0m \u001b[39mif\u001b[39;00m is_integer(indexer):\n\u001b[0;32m   3507\u001b[0m     indexer \u001b[39m=\u001b[39m [indexer]\n",
      "File \u001b[1;32md:\\Users\\rod_e\\AppData\\Local\\Programs\\Python\\Python310\\lib\\site-packages\\pandas\\core\\indexes\\base.py:3623\u001b[0m, in \u001b[0;36mIndex.get_loc\u001b[1;34m(self, key, method, tolerance)\u001b[0m\n\u001b[0;32m   3621\u001b[0m     \u001b[39mreturn\u001b[39;00m \u001b[39mself\u001b[39m\u001b[39m.\u001b[39m_engine\u001b[39m.\u001b[39mget_loc(casted_key)\n\u001b[0;32m   3622\u001b[0m \u001b[39mexcept\u001b[39;00m \u001b[39mKeyError\u001b[39;00m \u001b[39mas\u001b[39;00m err:\n\u001b[1;32m-> 3623\u001b[0m     \u001b[39mraise\u001b[39;00m \u001b[39mKeyError\u001b[39;00m(key) \u001b[39mfrom\u001b[39;00m \u001b[39merr\u001b[39;00m\n\u001b[0;32m   3624\u001b[0m \u001b[39mexcept\u001b[39;00m \u001b[39mTypeError\u001b[39;00m:\n\u001b[0;32m   3625\u001b[0m     \u001b[39m# If we have a listlike key, _check_indexing_error will raise\u001b[39;00m\n\u001b[0;32m   3626\u001b[0m     \u001b[39m#  InvalidIndexError. Otherwise we fall through and re-raise\u001b[39;00m\n\u001b[0;32m   3627\u001b[0m     \u001b[39m#  the TypeError.\u001b[39;00m\n\u001b[0;32m   3628\u001b[0m     \u001b[39mself\u001b[39m\u001b[39m.\u001b[39m_check_indexing_error(key)\n",
      "\u001b[1;31mKeyError\u001b[0m: 'alc_o_municipio'"
     ]
    }
   ],
   "source": [
    "get_geo(nat, False)"
   ]
  },
  {
   "cell_type": "code",
   "execution_count": 40,
   "metadata": {},
   "outputs": [
    {
     "name": "stderr",
     "output_type": "stream",
     "text": [
      "C:\\Users\\rod_e\\AppData\\Local\\Temp\\ipykernel_16708\\2857782416.py:71: FutureWarning: The frame.append method is deprecated and will be removed from pandas in a future version. Use pandas.concat instead.\n",
      "  juntos = uni.append(pd.DataFrame(tabla_tiempo))\n"
     ]
    }
   ],
   "source": [
    "generar_tabla_tiempo(nat, columna='fecha_nacimiento')"
   ]
  },
  {
   "cell_type": "code",
   "execution_count": 25,
   "metadata": {},
   "outputs": [
    {
     "name": "stderr",
     "output_type": "stream",
     "text": [
      "C:\\Users\\rod_e\\AppData\\Local\\Temp\\ipykernel_6516\\215030511.py:88: FutureWarning: The frame.append method is deprecated and will be removed from pandas in a future version. Use pandas.concat instead.\n",
      "  unido = ile_geo.append(pd.DataFrame(nat_dic))\n"
     ]
    }
   ],
   "source": [
    "get_geo(nat, columna='fecha_nacimiento', ile=False)"
   ]
  },
  {
   "cell_type": "code",
   "execution_count": 5,
   "metadata": {},
   "outputs": [
    {
     "name": "stderr",
     "output_type": "stream",
     "text": [
      "C:\\Users\\rod_e\\AppData\\Local\\Temp\\ipykernel_8552\\89286029.py:71: FutureWarning: The frame.append method is deprecated and will be removed from pandas in a future version. Use pandas.concat instead.\n",
      "  juntos = uni.append(pd.DataFrame(tabla_tiempo))\n"
     ]
    }
   ],
   "source": [
    "generar_tabla_tiempo(nat, columna='fecha_nacimiento')"
   ]
  }
 ],
 "metadata": {
  "kernelspec": {
   "display_name": "Python 3",
   "language": "python",
   "name": "python3"
  },
  "language_info": {
   "codemirror_mode": {
    "name": "ipython",
    "version": 3
   },
   "file_extension": ".py",
   "mimetype": "text/x-python",
   "name": "python",
   "nbconvert_exporter": "python",
   "pygments_lexer": "ipython3",
   "version": "3.10.4"
  },
  "orig_nbformat": 4,
  "vscode": {
   "interpreter": {
    "hash": "87e37ab4b4be2a65128e65ee6dd2cd25882cc8ca9e7bb4e0cbfeff46ad1b513d"
   }
  }
 },
 "nbformat": 4,
 "nbformat_minor": 2
}
