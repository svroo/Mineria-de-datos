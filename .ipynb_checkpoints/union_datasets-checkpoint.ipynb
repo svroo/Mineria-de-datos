{
 "cells": [
  {
   "cell_type": "code",
   "execution_count": 1,
   "id": "d391e193",
   "metadata": {},
   "outputs": [],
   "source": [
    "import pandas as pd"
   ]
  },
  {
   "cell_type": "code",
   "execution_count": 2,
   "id": "ecfb4b4b",
   "metadata": {},
   "outputs": [],
   "source": [
    "def resumen(data):\n",
    "    # Creamos una lista para cada columna\n",
    "    col = []\n",
    "    datos = []\n",
    "    nulos = []\n",
    "    correctos = []\n",
    "    nulos = []\n",
    "    valores = []\n",
    "    \n",
    "    # Obtenemos los datos que queremos llenar\n",
    "    for i in data.columns:\n",
    "        col.append(i)\n",
    "        datos.append(len(data[i]))\n",
    "        nulos.append(data[i].isnull().sum())\n",
    "        correctos.append(data[i].value_counts().sum())\n",
    "        valores.append((100 * data[i].isnull().sum()) / len(data[i]))\n",
    "        \n",
    "    # Creamos un diccionario con los datos obtenidos\n",
    "    dic={'Columna': col,\\\n",
    "    'Cantidad de datos': datos,\\\n",
    "    'Datos nulos': nulos,\\\n",
    "    'Total de datos correctos': correctos,\\\n",
    "    'Porcentaje de datos nulos': valores}\n",
    "\n",
    "    # Creamos un dataframe para visualizar mejor los datos\n",
    "    resumen = pd.DataFrame(dic)\n",
    "    return resumen"
   ]
  },
  {
   "cell_type": "markdown",
   "id": "0fada527",
   "metadata": {},
   "source": [
    "Primero vamos a obtener y unir los datasets con los que vamos a trabajar en un futuro"
   ]
  },
  {
   "cell_type": "code",
   "execution_count": 3,
   "id": "1e3e6c33",
   "metadata": {},
   "outputs": [
    {
     "name": "stderr",
     "output_type": "stream",
     "text": [
      "C:\\Users\\hp\\AppData\\Local\\Temp\\ipykernel_21056\\2409961241.py:3: FutureWarning: The frame.append method is deprecated and will be removed from pandas in a future version. Use pandas.concat instead.\n",
      "  data_unido = data_2016_2018.append(data_2019_2021)\n"
     ]
    }
   ],
   "source": [
    "data_2019_2021 = pd.read_csv('./datasets/ile-2019-2021_2.csv', sep=',', engine='python')\n",
    "data_2016_2018 = pd.read_csv('./datasets/ile-2016-2018_2.csv', sep=',', engine='python')\n",
    "data_unido = data_2016_2018.append(data_2019_2021)\n",
    "data_unido.to_csv('./datasets/Data_unido_2018_2021.csv', index=False)"
   ]
  },
  {
   "cell_type": "code",
   "execution_count": 5,
   "id": "881e5ed1",
   "metadata": {},
   "outputs": [],
   "source": [
    "# Convertimos xls a csv\n",
    "natalidad = pd.DataFrame(pd.read_excel('./datasets/Natalidad_2016-2021.xlsx'))\n",
    "natalidad.to_csv('./datasets/Natalidad_2016-2021.csv', header=True, index=False)"
   ]
  }
 ],
 "metadata": {
  "kernelspec": {
   "display_name": "Python 3 (ipykernel)",
   "language": "python",
   "name": "python3"
  },
  "language_info": {
   "codemirror_mode": {
    "name": "ipython",
    "version": 3
   },
   "file_extension": ".py",
   "mimetype": "text/x-python",
   "name": "python",
   "nbconvert_exporter": "python",
   "pygments_lexer": "ipython3",
   "version": "3.9.12"
  }
 },
 "nbformat": 4,
 "nbformat_minor": 5
}
